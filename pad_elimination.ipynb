{
 "cells": [
  {
   "cell_type": "code",
   "execution_count": null,
   "metadata": {},
   "outputs": [],
   "source": [
    "from tensorflow.keras.models import load_model\n",
    "import tensorflow as tf\n",
    "import matplotlib.pyplot as plt\n",
    "import os\n",
    "import numpy as np\n",
    "import cv2\n",
    "import shutil\n",
    "from scipy.stats import norm\n",
    "from PIL import Image\n",
    "import numpy as np\n",
    "import pandas as pd\n",
    "from pad.detector import PAD\n",
    "import warnings\n",
    "from tqdm import tqdm\n",
    "warnings.filterwarnings(\"ignore\")\n",
    "\n",
    "os.environ['CUDA_VISIBLE_DEVICES'] = '-1'\n"
   ]
  },
  {
   "cell_type": "code",
   "execution_count": null,
   "metadata": {},
   "outputs": [],
   "source": [
    "from scipy.stats import norm\n",
    "import numpy as np\n",
    "\n",
    "class Utils():\n",
    "  def get_norm_dist(self, scores):\n",
    "    mu, std = norm.fit(scores)\n",
    "    self.nrm = norm(mu, std)\n",
    "    x = np.linspace(scores.min(), scores.max(), 100)\n",
    "    p = self.nrm.pdf(x)\n",
    "    return self.nrm, p, x, mu, std\n",
    "\n",
    "  def is_accepted(self, score, max):\n",
    "    rand = np.random.uniform(0, max, 1)[0]\n",
    "    pdf_val = self.nrm.pdf(score)\n",
    "    if pdf_val > rand:\n",
    "      return True\n",
    "    return False\n"
   ]
  },
  {
   "cell_type": "code",
   "execution_count": null,
   "metadata": {},
   "outputs": [],
   "source": [
    "from keras.models import load_model\n",
    "import tensorflow as tf\n",
    "import matplotlib.pyplot as plt\n",
    "import numpy as np\n",
    "\n",
    "class Generator():\n",
    "  def __init__(self, model_path):\n",
    "    self.generator = load_model(model_path)\n",
    "\n",
    "  def generate_images(self, image_count):\n",
    "    images = []\n",
    "    seed = tf.random.normal([image_count, 128])\n",
    "    images = self.generator(seed, training=False)\n",
    "    return [np.array(image* 127.5 + 127.5).astype(np.uint8) for image in images]\n",
    "\n",
    "  def show_image(self, image):\n",
    "    plt.imshow(image)\n",
    "    plt.axis('off')"
   ]
  },
  {
   "cell_type": "code",
   "execution_count": null,
   "metadata": {},
   "outputs": [],
   "source": [
    "class PadHelper(PAD):\n",
    "  fig_dir = \"./data/figures/pad_distribution\"\n",
    "  synthetic_dir = \"./data/synthetic\"\n",
    "  output_file = \"./data/info/append.json\"\n",
    "  utils = Utils()\n",
    "\n",
    "  def __init__(self, model_path, generator, train_pad_scores):\n",
    "    super().__init__(model_path)\n",
    "    self.generator = generator\n",
    "    self.train_pad_scores = train_pad_scores\n",
    "\n",
    "  def sample(self, fold, count):\n",
    "    _, p, x, mu, std = self.utils.get_norm_dist(self.train_pad_scores)\n",
    "    sample_list = []\n",
    "    dir_len = self.get_fold_generated_count(fold) + 1\n",
    "    generated_images = self.generator.generate_images(count)\n",
    "    for idx, image in enumerate(generated_images):\n",
    "      image = Image.fromarray(image.astype('uint8'), 'RGB')\n",
    "      pad_score = self.get_pad_score_from_image(image);\n",
    "      accept = self.utils.is_accepted(pad_score, p.max())\n",
    "      count = idx + dir_len\n",
    "      filename = f\"{fold}_{count}.jpg\"\n",
    "      dict={\"fold\": fold, \"image\": filename, \"pad_score\": pad_score, \"pad_status\": accept, \"train_match_scores\": None, \"verieye_status\":None}\n",
    "      sample_list.append(dict)\n",
    "      ##image.save(os.path.join(self.synthetic_dir,filename))\n",
    "    df = pd.DataFrame(sample_list)\n",
    "    if not os.path.exists(self.output_file):\n",
    "      df.to_json(self.output_file, orient=\"records\")\n",
    "    else:\n",
    "      self.append_to_json(self.output_file, df)\n",
    "    return df\n",
    "\n",
    "  def get_fold_generated_count(self, fold):\n",
    "    if not os.path.exists(self.synthetic_dir):\n",
    "      return 0\n",
    "    dir_list = os.listdir(self.synthetic_dir)\n",
    "    fold_count = [filename for filename in dir_list if filename.split('_')[0] == str(fold)]\n",
    "    return len(fold_count)\n",
    "\n",
    "  def append_to_json(self, jsonFile, newData):\n",
    "    df = pd.read_json(jsonFile, orient=\"records\")\n",
    "    df = pd.concat([df, newData], ignore_index=True)\n",
    "    df.to_json(jsonFile, orient=\"records\")"
   ]
  },
  {
   "cell_type": "code",
   "execution_count": null,
   "metadata": {},
   "outputs": [],
   "source": [
    "def create_dirs():\n",
    "    if os.path.exists(PadHelper.synthetic_dir):\n",
    "      shutil.rmtree(PadHelper.synthetic_dir)\n",
    "    if os.path.exists(PadHelper.output_file):\n",
    "      os.remove(PadHelper.output_file)\n",
    "    if os.path.exists(PadHelper.fig_dir):\n",
    "      shutil.rmtree(PadHelper.fig_dir)\n",
    "    os.mkdir(PadHelper.synthetic_dir)\n",
    "    os.mkdir(PadHelper.fig_dir)"
   ]
  },
  {
   "cell_type": "code",
   "execution_count": null,
   "metadata": {},
   "outputs": [],
   "source": [
    "sample_count = 2000\n",
    "train_df = pd.read_csv(\"./data/info/train.csv\", sep=\";\")\n",
    "for fold in range (1,2):\n",
    "  train_pad_scores = np.array(train_df[train_df[\"group\"] != fold][\"pad_score\"])\n",
    "  generator = Generator(f\"./models/{str(fold)}.h5\")\n",
    "  pad_helper = PadHelper(\"./pad/Model/D-NetPAD_Model.pth\", generator, train_pad_scores)\n",
    "  df = pad_helper.sample(fold, sample_count)"
   ]
  },
  {
   "cell_type": "code",
   "execution_count": 12,
   "metadata": {},
   "outputs": [],
   "source": [
    "df = pd.read_json(\"./data/info/synthetic.json\", orient=\"records\")\n",
    "train_df = pd.read_csv(\"./data/info/train.csv\", sep=\";\")\n",
    "utils = Utils()\n",
    "for fold in range(1,6):\n",
    "  _, p, x, mu, std = utils.get_norm_dist(train_df[train_df[\"group\"] != fold][\"pad_score\"])\n",
    "  for idx, row in df[df[\"fold\"] == fold].iterrows():\n",
    "    df.loc[idx, \"pad_status\"] = utils.is_accepted(row[\"pad_score\"], p.max())\n",
    "df.to_json(\"./data/info/pad_fixed.json\", orient=\"records\")"
   ]
  }
 ],
 "metadata": {
  "interpreter": {
   "hash": "223647c3de1bb7cb8e35a5ef84beba84fd61cfff4edac9750db6fe01f4fba11e"
  },
  "kernelspec": {
   "display_name": "Python 3.9.1 ('env': venv)",
   "language": "python",
   "name": "python3"
  },
  "language_info": {
   "codemirror_mode": {
    "name": "ipython",
    "version": 3
   },
   "file_extension": ".py",
   "mimetype": "text/x-python",
   "name": "python",
   "nbconvert_exporter": "python",
   "pygments_lexer": "ipython3",
   "version": "3.9.1"
  },
  "orig_nbformat": 4
 },
 "nbformat": 4,
 "nbformat_minor": 2
}
