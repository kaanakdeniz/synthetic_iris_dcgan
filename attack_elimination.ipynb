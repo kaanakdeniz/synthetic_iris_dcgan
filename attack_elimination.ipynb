{
 "cells": [
  {
   "cell_type": "code",
   "execution_count": 64,
   "metadata": {},
   "outputs": [],
   "source": [
    "import pandas as pd\n",
    "import math\n",
    "from scipy.stats import norm\n",
    "import numpy as np\n",
    "import itertools\n",
    "from ast import literal_eval"
   ]
  },
  {
   "cell_type": "code",
   "execution_count": 65,
   "metadata": {},
   "outputs": [],
   "source": [
    "df = pd.read_csv(\"./data/info/pad_fixed.csv\",)\n",
    "t_df = pd.read_json(\"./data/info/train_pairs.json\", orient=\"records\")\n",
    "g_scores = np.array(t_df[t_df.type==\"genuine\"].match_score)\n",
    "i_scores = np.array(t_df[t_df.type==\"impostor\"].match_score)"
   ]
  },
  {
   "cell_type": "code",
   "execution_count": 66,
   "metadata": {},
   "outputs": [],
   "source": [
    "def f_prob(scores):\n",
    "  mean, std = norm.fit(scores)\n",
    "  f_norm = norm(mean, std)\n",
    "  var_p = .5\n",
    "  def inner(score):\n",
    "    return f_norm.pdf(score) * var_p\n",
    "  return inner"
   ]
  },
  {
   "cell_type": "code",
   "execution_count": 67,
   "metadata": {},
   "outputs": [],
   "source": [
    "f_g = f_prob(g_scores)\n",
    "f_i = f_prob(i_scores)\n",
    "def f_prop_of_impostor(score):\n",
    "  f_i_res = f_i(score)\n",
    "  return f_i_res / (f_i_res + f_g(score))\n",
    "log_of_prop = lambda x:  math.log(f_prop_of_impostor(x))"
   ]
  },
  {
   "cell_type": "code",
   "execution_count": 68,
   "metadata": {},
   "outputs": [],
   "source": [
    "df[\"train_match_scores\"] = df.train_match_scores.apply(literal_eval)"
   ]
  },
  {
   "cell_type": "code",
   "execution_count": 69,
   "metadata": {},
   "outputs": [],
   "source": [
    "scores_list_of_list = df[\"train_match_scores\"].to_numpy()\n",
    "merged = list(itertools.chain.from_iterable(scores_list_of_list))\n",
    "unique_values = list(set(merged))\n",
    "hash_table = {}\n",
    "for value in unique_values:\n",
    "    hash_table[value] = math.log(f_prop_of_impostor(value))"
   ]
  },
  {
   "cell_type": "code",
   "execution_count": 70,
   "metadata": {},
   "outputs": [],
   "source": [
    "def calculate_props(match_scores):\n",
    "  match_scores = np.array(match_scores)\n",
    "  props = [hash_table[score] for score in match_scores]\n",
    "  return np.sum(props)"
   ]
  },
  {
   "cell_type": "code",
   "execution_count": 71,
   "metadata": {},
   "outputs": [],
   "source": [
    "for index, row in df.iterrows():\n",
    "    df.loc[index, 'prop_of_i'] = calculate_props(row.train_match_scores)"
   ]
  },
  {
   "cell_type": "code",
   "execution_count": 72,
   "metadata": {},
   "outputs": [],
   "source": [
    "for i in range(1,6):\n",
    "  fold_df = df[df[\"fold\"] == i]\n",
    "  fold_df = fold_df[fold_df[\"pad_status\"] == True]\n",
    "  fold_df = fold_df.sort_values(by=\"prop_of_i\").head(400)\n",
    "  for idx, row in fold_df.iterrows():\n",
    "    df.loc[idx, \"verieye_status\"] = True"
   ]
  },
  {
   "cell_type": "code",
   "execution_count": 73,
   "metadata": {},
   "outputs": [],
   "source": [
    "# df.to_json(\"synthetic.json\", orient=\"records\")"
   ]
  }
 ],
 "metadata": {
  "kernelspec": {
   "display_name": "Python 3.9.1 ('env': venv)",
   "language": "python",
   "name": "python3"
  },
  "language_info": {
   "codemirror_mode": {
    "name": "ipython",
    "version": 3
   },
   "file_extension": ".py",
   "mimetype": "text/x-python",
   "name": "python",
   "nbconvert_exporter": "python",
   "pygments_lexer": "ipython3",
   "version": "3.9.1"
  },
  "orig_nbformat": 4,
  "vscode": {
   "interpreter": {
    "hash": "47cab1becdae1b1b79e225b90b2fad0341eab1d3085dad0cec13d77609630526"
   }
  }
 },
 "nbformat": 4,
 "nbformat_minor": 2
}
