{
 "cells": [
  {
   "cell_type": "code",
   "execution_count": null,
   "metadata": {},
   "outputs": [],
   "source": [
    "import pandas as pd\n",
    "import numpy as np\n",
    "import matplotlib.pyplot as plt\n",
    "import seaborn as sns\n",
    "from scipy.stats import norm\n",
    "from sklearn import preprocessing\n",
    "import matplotlib\n"
   ]
  },
  {
   "cell_type": "code",
   "execution_count": null,
   "metadata": {},
   "outputs": [],
   "source": [
    "from collections import Counter\n",
    "\n",
    "\n",
    "def normalize(scores):\n",
    "    scores = Counter(scores)\n",
    "    total = sum(scores.values(), 0.0)\n",
    "    for key in scores:\n",
    "        scores[key] /= total\n",
    "    return scores\n"
   ]
  },
  {
   "cell_type": "code",
   "execution_count": null,
   "metadata": {},
   "outputs": [],
   "source": [
    "df = pd.read_json(\"./data/info/train_pairs.json\", orient=\"records\")\n",
    "genuine_scores = np.array(df[df[\"type\"] == \"genuine\"][\"match_score\"])\n",
    "impostor_scores = np.array(df[df[\"type\"] == \"impostor\"][\"match_score\"])\n",
    "impostor_scores = normalize(impostor_scores)\n"
   ]
  },
  {
   "cell_type": "code",
   "execution_count": null,
   "metadata": {},
   "outputs": [],
   "source": [
    "g_mu, g_std = norm.fit(genuine_scores)\n",
    "g_nrm = norm(g_mu, g_std)\n",
    "g_x = np.linspace(genuine_scores.min(), genuine_scores.max(), 100)\n",
    "g_p = g_nrm.pdf(g_x)\n",
    "plt.figure(figsize=(8, 5), facecolor='white')\n",
    "plt.xticks(np.arange(0, 1000, 100))\n",
    "matplotlib.rcParams.update({'font.size': 14})\n",
    "\n",
    "density_val = np.array(list(impostor_scores.keys()))\n",
    "i_mu, i_std = norm.fit(density_val)\n",
    "i_nrm = norm(i_mu, i_std)\n",
    "i_x = np.linspace(density_val.min() - 50, density_val.max() + 50, 100)\n",
    "i_p = i_nrm.pdf(i_x)\n",
    "\n",
    "plt.hist(impostor_scores, density=True, bins=5,\n",
    "         edgecolor=\"black\", alpha=.4, label=\"Eş Olmayan\")\n",
    "plt.hist(genuine_scores, density=True, bins=50,\n",
    "         edgecolor=\"black\", alpha=.4, label=\"Eş Olan\")\n",
    "plt.plot(i_x, i_p, linewidth=3, color=\"b\", label=\"Eş Olmayan Dağılım\")\n",
    "plt.plot(g_x, g_p, linewidth=3, color=\"r\", label=\"Eş Olan Dağılım\")\n",
    "plt.rc('axes', labelsize=25)\n",
    "plt.ylabel(\"Yoğunluk\", fontsize=14)\n",
    "plt.xlabel(\"Eşleşme Skoru\", fontsize=14)\n",
    "plt.legend()\n",
    "plt.tight_layout()\n",
    "plt.show()\n"
   ]
  }
 ],
 "metadata": {
  "interpreter": {
   "hash": "749a1d8c846e0d02dcb3ab682a244099f3857e8c89a32ec106836d1782456aa4"
  },
  "kernelspec": {
   "display_name": "Python 3.9.1 ('env': venv)",
   "language": "python",
   "name": "python3"
  },
  "language_info": {
   "codemirror_mode": {
    "name": "ipython",
    "version": 3
   },
   "file_extension": ".py",
   "mimetype": "text/x-python",
   "name": "python",
   "nbconvert_exporter": "python",
   "pygments_lexer": "ipython3",
   "version": "3.9.16"
  },
  "orig_nbformat": 4
 },
 "nbformat": 4,
 "nbformat_minor": 2
}
