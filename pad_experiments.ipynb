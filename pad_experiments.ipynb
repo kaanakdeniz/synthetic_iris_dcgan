{
 "cells": [
  {
   "cell_type": "code",
   "execution_count": null,
   "metadata": {},
   "outputs": [],
   "source": [
    "import pandas as pd\n",
    "import numpy as np\n",
    "import matplotlib.pyplot as plt\n",
    "import warnings\n",
    "from shapely.geometry import LineString\n",
    "warnings.filterwarnings(\"ignore\")\n"
   ]
  },
  {
   "cell_type": "code",
   "execution_count": null,
   "metadata": {},
   "outputs": [],
   "source": [
    "r_df = pd.read_json(\"./data/info/train.json\")\n",
    "s_df = pd.read_json(\"./data/info/synthetic.json\")\n"
   ]
  },
  {
   "cell_type": "code",
   "execution_count": null,
   "metadata": {},
   "outputs": [],
   "source": [
    "def get_real_test_images(df, fold):\n",
    "    df = df[df[\"group\"] == fold]\n",
    "    return df\n",
    "\n",
    "\n",
    "def get_selected_images(df, fold, count):\n",
    "    df = df[df[\"fold\"] == fold]\n",
    "    df = df[df[\"verieye_status\"] == True]\n",
    "    return df.head(count)\n",
    "\n",
    "\n",
    "def get_random_group(df, fold, count):\n",
    "    df = df[df[\"fold\"] == fold]\n",
    "    return df.sample(n=count)\n"
   ]
  },
  {
   "cell_type": "code",
   "execution_count": null,
   "metadata": {},
   "outputs": [],
   "source": [
    "# 0->Genuine 1->Impostor\n",
    "def get_fpr_tpr(real_df, fake_df):\n",
    "    real_df[\"type\"] = 0\n",
    "    fake_df[\"type\"] = 1\n",
    "    df = pd.concat([real_df, fake_df], ignore_index=True)\n",
    "    fprList = []\n",
    "    tprList = []\n",
    "    thresholds = np.arange(0.0, 1.01, .01)\n",
    "    for thold in thresholds:\n",
    "        FP = 0\n",
    "        TP = 0\n",
    "        for i in range(len(df)):\n",
    "            if (df[\"pad_score\"][i] > thold):\n",
    "                if df[\"type\"][i] == 1:\n",
    "                    TP = TP + 1\n",
    "                if df[\"type\"][i] == 0:\n",
    "                    FP = FP + 1\n",
    "        fprList.append(FP/float(len(real_df)))\n",
    "        tprList.append(TP/float(len(fake_df)))\n",
    "    return fprList, tprList\n"
   ]
  },
  {
   "cell_type": "code",
   "execution_count": null,
   "metadata": {},
   "outputs": [],
   "source": [
    "markers = [\"o\", \"v\", \"*\", \"+\", \"x\", \"2\"]\n",
    "selecteds = []\n",
    "randoms = []\n",
    "for i in range(1, 6):\n",
    "    real_df = get_real_test_images(r_df, i)\n",
    "    fake_df = get_selected_images(s_df, i, len(real_df))\n",
    "    fpr, tpr = get_fpr_tpr(real_df, fake_df)\n",
    "    selecteds.append({\"fold\": i, \"type\": \"selected\", \"tpr\": tpr, \"fpr\": fpr})\n",
    "    plt.plot(fpr, tpr, label=\"Seçilmiş\", linewidth=2, marker=markers[0])\n",
    "    rand_l = []\n",
    "    for rand in range(5):\n",
    "        rand_df = get_random_group(s_df, i, len(real_df))\n",
    "        fpr_rand, tpr_rand = get_fpr_tpr(real_df, rand_df)\n",
    "        rand_l.append({\"fold\": i, \"type\": \"random\",\n",
    "                      \"rand\": rand+1, \"tpr\": tpr_rand, \"fpr\": fpr_rand})\n",
    "        plt.plot(fpr_rand, tpr_rand,\n",
    "                 label=f\"Rastgele-{rand+1}\", linewidth=2, marker=markers[rand+1])\n",
    "    randoms.append(rand_l)\n",
    "\n",
    "    plt.grid()\n",
    "    plt.legend()\n",
    "    plt.title(f\"PAD - ROC Graph(Fold-{i})\")\n",
    "    plt.xlabel(\"Yanlış Pozitif Oranı\")\n",
    "    plt.ylabel(\"Gerçek Pozitif Oranı\")\n",
    "    plt.tight_layout()\n",
    "    plt.savefig(f\"./data/figures/pad-roc-{i}\", facecolor=\"white\")\n",
    "    plt.figure(figsize=(12, 10))\n",
    "    plt.show()\n"
   ]
  },
  {
   "cell_type": "code",
   "execution_count": null,
   "metadata": {},
   "outputs": [],
   "source": [
    "selecteds_fpr_avg = np.sum([item[\"fpr\"] for item in selecteds], axis=0) / 5\n",
    "selecteds_tpr_avg = np.sum([item[\"tpr\"] for item in selecteds], axis=0) / 5\n",
    "rand_fpr_avgs = []\n",
    "rand_tpr_avgs = []\n",
    "df = pd.DataFrame(randoms)\n",
    "for idx, row in enumerate(randoms):\n",
    "    items = df[idx]\n",
    "    rand_fpr_avgs.append(np.sum([item[\"fpr\"] for item in items], axis=0) / 5)\n",
    "    rand_tpr_avgs.append(np.sum([item[\"tpr\"] for item in items], axis=0) / 5)\n"
   ]
  },
  {
   "cell_type": "code",
   "execution_count": null,
   "metadata": {},
   "outputs": [],
   "source": [
    "intersections = []\n",
    "plt.figure(figsize=(8, 5))\n",
    "plt.plot(selecteds_fpr_avg, selecteds_tpr_avg,\n",
    "         label=\"Seçilmiş\", linewidth=2, marker=markers[0])\n",
    "first_line = LineString(np.column_stack(\n",
    "    (selecteds_fpr_avg, selecteds_tpr_avg)))\n",
    "second_line = LineString(np.column_stack(([0, 1], [1, 0])))\n",
    "intersection = first_line.intersection(second_line)\n",
    "intersections.append({\"Name\": \"Seçilmiş\", \"Points\": intersection.xy})\n",
    "for rand in range(5):\n",
    "    fpr_avg_p = rand_fpr_avgs[rand]\n",
    "    tpr_avg_p = rand_tpr_avgs[rand]\n",
    "    plt.plot(fpr_avg_p, tpr_avg_p,\n",
    "             label=f\"Rastgele-{rand+1}\", linewidth=2, marker=markers[rand+1])\n",
    "    first_line = LineString(np.column_stack((fpr_avg_p, tpr_avg_p)))\n",
    "    second_line = LineString(np.column_stack(([0, 1], [1, 0])))\n",
    "    intersection = first_line.intersection(second_line)\n",
    "    intersections.append(\n",
    "        {\"Name\": f\"Rastgele-{rand+1}\", \"Points\": intersection.xy})\n",
    "\n",
    "plt.grid()\n",
    "plt.legend()\n",
    "plt.title(f\"PAD - ROC Graph\")\n",
    "plt.rcParams.update({'font.size': 14})\n",
    "plt.xlabel(\"Yanlış Pozitif Oranı\")\n",
    "plt.ylabel(\"Gerçek Pozitif Oranı\")\n",
    "\n",
    "plt.tight_layout()\n",
    "plt.savefig(\"./data/figures/pad-roc-avg.png\", facecolor=\"white\")\n",
    "plt.show()\n"
   ]
  },
  {
   "cell_type": "code",
   "execution_count": null,
   "metadata": {},
   "outputs": [],
   "source": [
    "[(intersection[\"Name\"], intersection[\"Points\"][0][0])\n",
    " for intersection in intersections]\n"
   ]
  },
  {
   "cell_type": "code",
   "execution_count": null,
   "metadata": {},
   "outputs": [],
   "source": [
    "from scipy.optimize import brentq\n",
    "from scipy.interpolate import interp1d\n",
    "eer = brentq(lambda x: 1. - x - interp1d(selecteds_fpr_avg,\n",
    "             selecteds_tpr_avg)(x), 0., 1.)\n",
    "eer\n"
   ]
  }
 ],
 "metadata": {
  "interpreter": {
   "hash": "835e801b63881495f63365e53421b986e44984e51989ed82fffe94d1be30b8a6"
  },
  "kernelspec": {
   "display_name": "Python 3.8.6 64-bit",
   "language": "python",
   "name": "python3"
  },
  "language_info": {
   "codemirror_mode": {
    "name": "ipython",
    "version": 3
   },
   "file_extension": ".py",
   "mimetype": "text/x-python",
   "name": "python",
   "nbconvert_exporter": "python",
   "pygments_lexer": "ipython3",
   "version": "3.9.16"
  },
  "orig_nbformat": 4
 },
 "nbformat": 4,
 "nbformat_minor": 2
}
