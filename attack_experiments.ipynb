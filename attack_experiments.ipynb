{
 "cells": [
  {
   "cell_type": "code",
   "execution_count": null,
   "metadata": {},
   "outputs": [],
   "source": [
    "import pandas as pd\n",
    "import numpy as np\n",
    "import itertools\n",
    "import matplotlib.pyplot as plt"
   ]
  },
  {
   "cell_type": "code",
   "execution_count": null,
   "metadata": {},
   "outputs": [],
   "source": [
    "df = pd.read_json(\"./data/info/train.json\")\n",
    "t_df = pd.read_json(\"./data/info/train_pairs.json\")\n",
    "s_df = pd.read_json(\"./data/info/synthetic_with_pairs.json\")"
   ]
  },
  {
   "cell_type": "code",
   "execution_count": null,
   "metadata": {},
   "outputs": [],
   "source": [
    "def get_fold_test_group_names(fold, df):\n",
    "  names = np.array(df[df[\"group\"] == fold][\"file\"])\n",
    "  return [file.split(\".\")[0] for file in names]"
   ]
  },
  {
   "cell_type": "code",
   "execution_count": null,
   "metadata": {},
   "outputs": [],
   "source": [
    "def get_selected_synthetic_match_scores(fold, s_df, pairs):\n",
    "  all_scores = []\n",
    "  s_df = s_df[(s_df.fold == fold) & (s_df.verieye_status == True)]    \n",
    "  for match_scores in s_df[\"train_match_scores\"]:    \n",
    "    all_scores.append([row[\"score\"] for row in match_scores if row[\"pair\"] in pairs])\n",
    "  return list(itertools.chain.from_iterable(all_scores))"
   ]
  },
  {
   "cell_type": "code",
   "execution_count": null,
   "metadata": {},
   "outputs": [],
   "source": [
    "def get_random_synthetic_match_scores(fold, s_df, pairs):\n",
    "  all_scores = []\n",
    "  s_df = s_df[(s_df.fold == fold)].sample(n=400)    \n",
    "  for match_scores in s_df[\"train_match_scores\"]:    \n",
    "    all_scores.append([row[\"score\"] for row in match_scores if row[\"pair\"] in pairs])\n",
    "  return list(itertools.chain.from_iterable(all_scores))"
   ]
  },
  {
   "cell_type": "code",
   "execution_count": null,
   "metadata": {},
   "outputs": [],
   "source": [
    "def get_genuine_test_pairs_match_scores(fold, t_df):\n",
    " return np.array(t_df[(t_df.group_first == fold) & (t_df.group_second == fold) & (t_df.type == \"genuine\")][\"match_score\"])"
   ]
  },
  {
   "cell_type": "code",
   "execution_count": null,
   "metadata": {},
   "outputs": [],
   "source": [
    "def calculate_sfar(scores):\n",
    "  thresholds = np.arange(0.0, 0.1, .001)\n",
    "  sfarRatios = []\n",
    "  for thold in thresholds:\n",
    "    FA = 0\n",
    "    for i in range(len(scores)):\n",
    "      if(scores[i] > thold):\n",
    "        FA = FA +1\n",
    "    sfarRatios.append(FA/float(len(scores)))\n",
    "  return sfarRatios "
   ]
  },
  {
   "cell_type": "code",
   "execution_count": null,
   "metadata": {},
   "outputs": [],
   "source": [
    "def calculate_frr(scores):\n",
    "  thresholds = np.arange(0.0, 1.0, .01)\n",
    "  frRatios = []\n",
    "  for thold in thresholds:\n",
    "    FR = 0\n",
    "    for i in range(len(scores)):\n",
    "      if(scores[i] < thold):\n",
    "        FR = FR +1\n",
    "    frRatios.append(FR/float(len(scores)))\n",
    "  return frRatios"
   ]
  },
  {
   "cell_type": "code",
   "execution_count": null,
   "metadata": {},
   "outputs": [],
   "source": [
    "SFAR_L = []\n",
    "FRR_L = []\n",
    "R_SFAR_L = []\n",
    "markers = [\"o\", \"v\", \"*\", \"+\", \"x\", \"2\"]\n",
    "for fold in range(1,6):\n",
    "  pairs = get_fold_test_group_names(fold, df)\n",
    "  s_scores = get_selected_synthetic_match_scores(fold, s_df, pairs) / np.array(1681) #1681 is VeriEye max value\n",
    "  g_scores = get_genuine_test_pairs_match_scores(fold, t_df) / np.array(1681)\n",
    "  SFAR = calculate_sfar(s_scores)\n",
    "  FRR = calculate_frr(g_scores)\n",
    "  SFAR_L.append(SFAR)\n",
    "  FRR_L.append(FRR)\n",
    "  plt.plot(SFAR, FRR, label=\"Selected\",linewidth=2 , marker = markers[0])\n",
    "  LST = []\n",
    "  for i in range(1,6):\n",
    "    rand_scores = get_random_synthetic_match_scores(fold, s_df, pairs) / np.array(1681)\n",
    "    R_SFAR = calculate_sfar(rand_scores)\n",
    "    LST.append({\"fold\":i, \"type\":\"random\", \"rand\": i,\"SFAR\": R_SFAR})\n",
    "    plt.plot(R_SFAR, FRR, label=f\"Rand-{i}\",linewidth=2, marker = markers[i])\n",
    "  R_SFAR_L.append(LST)\n",
    "  plt.xscale(\"log\")\n",
    "  plt.grid()\n",
    "  plt.legend()\n",
    "  plt.title(f\"SFAR - FRR Graph(Fold-{fold})\")\n",
    "  plt.xlabel(\"SFAR\")\n",
    "  plt.ylabel(\"FRR\")\n",
    "  plt.tight_layout()\n",
    "  plt.savefig(f\"sfar-ffr-{fold}.png\", format=\"png\", facecolor=\"white\")\n",
    "  plt.figure(figsize=(12,10))\n",
    "  plt.show()"
   ]
  },
  {
   "cell_type": "code",
   "execution_count": null,
   "metadata": {},
   "outputs": [],
   "source": [
    "sfar_avg = np.sum([score for score in SFAR_L], axis=0) / 5\n",
    "frr_avg = np.sum([score for score in FRR_L], axis=0) / 5"
   ]
  },
  {
   "cell_type": "code",
   "execution_count": null,
   "metadata": {},
   "outputs": [],
   "source": [
    "r_sfar_avgs = []\n",
    "df = pd.DataFrame(R_SFAR_L)\n",
    "for idx,row in enumerate(R_SFAR_L):\n",
    "  items = df[idx]\n",
    "  r_sfar_avgs.append(np.sum([item[\"SFAR\"] for item in items], axis=0) / 5)"
   ]
  },
  {
   "cell_type": "code",
   "execution_count": 215,
   "metadata": {},
   "outputs": [
    {
     "data": {
      "image/png": "[encoded data removed]",
      "text/plain": [
       "<Figure size 576x360 with 1 Axes>"
      ]
     },
     "metadata": {
      "needs_background": "light"
     },
     "output_type": "display_data"
    }
   ],
   "source": [
    "from shapely.geometry import LineString\n",
    "\n",
    "ax_list=[]\n",
    "\n",
    "plt.figure(figsize=(8,5))\n",
    "ax = plt.plot(sfar_avg, frr_avg, label=\"Seçilmiş\",linewidth=2, marker=markers[0])\n",
    "ax_list.append({\"name\":\"seçilmiş\",\"ax\": ax})\n",
    "plt.plot([0,1])\n",
    "\n",
    "first_line = LineString(np.column_stack((sfar_avg, frr_avg)))\n",
    "second_line = LineString(np.column_stack(([0,1], [1,0])))\n",
    "intersection = first_line.intersection(second_line)\n",
    "\n",
    "# for i in range(1,6):\n",
    "#   ax = plt.plot(r_sfar_avgs[i-1], frr_avg, label=f\"Rastgele-{i}\",linewidth=2, marker=markers[i])\n",
    "#   ax_list.append({\"name\":f\"rastgele-{i}\",\"ax\": ax})\n",
    "# plt.xscale(\"log\")\n",
    "# plt.yscale(\"log\")\n",
    "plt.grid()\n",
    "plt.legend()\n",
    "plt.xlabel(\"Saldırı Yanlış Eşleşme Oranı\")\n",
    "plt.ylabel(\"Yanlış Eşleşmeme Oranı\")\n",
    "plt.tight_layout()\n",
    "\n",
    "plt.rcParams.update({'font.size': 16})\n",
    "plt.savefig(\"sfar-frr-avg.png\", format=\"png\", facecolor=\"white\")\n",
    "plt.show()"
   ]
  },
  {
   "cell_type": "code",
   "execution_count": 239,
   "metadata": {},
   "outputs": [],
   "source": [
    "from scipy.optimize import brentq\n",
    "from scipy.interpolate import interp1d"
   ]
  },
  {
   "cell_type": "code",
   "execution_count": 259,
   "metadata": {},
   "outputs": [],
   "source": [
    "eer = brentq(lambda x : 1. - x - interp1d(r_sfar_avgs[1], frr_avg,axis=0, fill_value=\"extrapolate\")(x), 0., 1.)"
   ]
  },
  {
   "cell_type": "code",
   "execution_count": 260,
   "metadata": {},
   "outputs": [
    {
     "data": {
      "text/plain": [
       "1.0"
      ]
     },
     "execution_count": 260,
     "metadata": {},
     "output_type": "execute_result"
    }
   ],
   "source": [
    "eer"
   ]
  },
  {
   "cell_type": "code",
   "execution_count": null,
   "metadata": {},
   "outputs": [],
   "source": [
    "scores = []\n",
    "for i in range(100):\n",
    "  frr = ax_list[0][\"ax\"][0].get_ydata()[i]\n",
    "  sfar_s = ax_list[0][\"ax\"][0].get_xdata()[i]\n",
    "  sfar_1 = ax_list[1][\"ax\"][0].get_xdata()[i]\n",
    "  sfar_2 = ax_list[2][\"ax\"][0].get_xdata()[i]\n",
    "  sfar_3 = ax_list[3][\"ax\"][0].get_xdata()[i]\n",
    "  sfar_4 = ax_list[4][\"ax\"][0].get_xdata()[i]\n",
    "  sfar_5 = ax_list[5][\"ax\"][0].get_xdata()[i]\n",
    "  dct = {\"FRR\": frr, \"SFAR-Seçilmiş\": sfar_s, \"SFAR-R1\": sfar_1, \"SFAR-R2\": sfar_2, \"SFAR-R3\": sfar_3,\"SFAR-R4\": sfar_4,\"SFAR-R5\" : sfar_5}\n",
    "  scores.append(dct)\n",
    "pd.DataFrame(scores).to_csv(\"frr-sfar-pairs.csv\", index=False)"
   ]
  },
  {
   "cell_type": "code",
   "execution_count": null,
   "metadata": {},
   "outputs": [],
   "source": [
    "selected_scores = []\n",
    "for match_scores in s_df[s_df[\"verieye_status\"] == True][\"train_match_scores\"]:    \n",
    "  selected_scores.append([row[\"score\"] for row in match_scores])\n",
    "selected_scores = list(itertools.chain.from_iterable(selected_scores))"
   ]
  },
  {
   "cell_type": "code",
   "execution_count": null,
   "metadata": {},
   "outputs": [],
   "source": [
    "plt.hist(selected_scores, bins=50, edgecolor=\"black\", alpha=.7)\n",
    "plt.title(\"Seçilmiş Sentetik İmgelerin Atak Skor Dağılımı\")\n",
    "plt.ylabel(\"Frekans\")\n",
    "plt.xlabel(\"Atak Puanı\")\n",
    "plt.yscale(\"log\")\n",
    "plt.tight_layout()\n",
    "plt.savefig(\"selected_score_dist.png\", format=\"png\", facecolor=\"white\")\n",
    "plt.show()"
   ]
  },
  {
   "cell_type": "code",
   "execution_count": null,
   "metadata": {},
   "outputs": [],
   "source": [
    "df = pd.read_json(\"./data/info/train_pairs.json\", orient=\"records\")\n",
    "genuine_scores = np.array(df[df[\"type\"] == \"genuine\"][\"match_score\"])\n",
    "impostor_scores = np.array(df[df[\"type\"] == \"impostor\"][\"match_score\"])"
   ]
  },
  {
   "cell_type": "code",
   "execution_count": null,
   "metadata": {},
   "outputs": [],
   "source": [
    "from collections import Counter\n",
    "\n",
    "def normalize(scores):\n",
    "  scores = Counter(scores)\n",
    "  total = sum(scores.values(), 0.0)\n",
    "  for key in scores:\n",
    "    scores[key] /= total\n",
    "  return scores"
   ]
  },
  {
   "cell_type": "code",
   "execution_count": null,
   "metadata": {},
   "outputs": [],
   "source": [
    "# genuine_scores = normalize(genuine_scores)\n",
    "impostor_scores = normalize(impostor_scores)"
   ]
  },
  {
   "cell_type": "code",
   "execution_count": null,
   "metadata": {},
   "outputs": [],
   "source": [
    "all_scores = []\n",
    "for match_scores in s_df[\"train_match_scores\"]:    \n",
    "  all_scores.append([row[\"score\"] for row in match_scores])\n",
    "all_scores = list(itertools.chain.from_iterable(all_scores))"
   ]
  },
  {
   "cell_type": "code",
   "execution_count": null,
   "metadata": {},
   "outputs": [],
   "source": [
    "\n",
    "plt.hist(genuine_scores, density=True, bins=50, edgecolor=\"black\", alpha=.4)\n",
    "plt.hist(impostor_scores, density=True, bins=5, edgecolor=\"black\", alpha = .4)\n",
    "plt.hist(selected_scores, density=True, bins=50, edgecolor=\"black\", alpha=.4)\n",
    "# plt.hist(impostor_scores, density=True, bins=5, edgecolor=\"black\", alpha = .6)\n",
    "\n",
    "plt.xticks(np.arange(0,1000, 100))\n",
    "\n",
    "plt.ylabel(\"Frekans\")\n",
    "plt.xlabel(\"Atak Puanı\")\n",
    "plt.tight_layout()\n",
    "plt.legend(['Eş Olan', 'Eş Olmayan'])\n",
    "# plt.savefig(\"train_score_dist.png\", format=\"png\", facecolor=\"white\")\n",
    "plt.show()"
   ]
  },
  {
   "cell_type": "code",
   "execution_count": null,
   "metadata": {},
   "outputs": [],
   "source": [
    "plt.hist(all_scores, bins=50, edgecolor=\"black\", alpha=.7)\n",
    "plt.title(\"Tüm Sentetik İmgelerin Atak Skor Dağılımı\")\n",
    "plt.ylabel(\"Frekans\")\n",
    "plt.xlabel(\"Atak Puanı\")\n",
    "plt.yscale(\"log\")\n",
    "plt.tight_layout()\n",
    "plt.savefig(\"all_synthetic_score_dist.png\", format=\"png\", facecolor=\"white\")\n",
    "plt.show()"
   ]
  }
 ],
 "metadata": {
  "interpreter": {
   "hash": "749a1d8c846e0d02dcb3ab682a244099f3857e8c89a32ec106836d1782456aa4"
  },
  "kernelspec": {
   "display_name": "Python 3.9.1 ('env': venv)",
   "language": "python",
   "name": "python3"
  },
  "language_info": {
   "codemirror_mode": {
    "name": "ipython",
    "version": 3
   },
   "file_extension": ".py",
   "mimetype": "text/x-python",
   "name": "python",
   "nbconvert_exporter": "python",
   "pygments_lexer": "ipython3",
   "version": "3.9.1"
  },
  "orig_nbformat": 4
 },
 "nbformat": 4,
 "nbformat_minor": 2
}
