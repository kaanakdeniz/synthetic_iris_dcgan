{
 "cells": [
  {
   "cell_type": "code",
   "execution_count": null,
   "metadata": {},
   "outputs": [],
   "source": [
    "import pandas as pd\n",
    "import numpy as np\n",
    "import matplotlib.pyplot as plt\n",
    "from scipy.stats import norm\n",
    "import cv2\n",
    "import os\n",
    "import seaborn as sns"
   ]
  },
  {
   "cell_type": "code",
   "execution_count": null,
   "metadata": {},
   "outputs": [],
   "source": [
    "fold = 1\n",
    "train_json = \"./data/info/train.json\"\n",
    "synthetic_json = \"./data/info/synthetic.json\""
   ]
  },
  {
   "cell_type": "code",
   "execution_count": null,
   "metadata": {},
   "outputs": [],
   "source": [
    "def plot_norm_dist(scores, title):\n",
    "  mu, std = norm.fit(scores)\n",
    "  nrm = norm(mu, std)\n",
    "  ax = sns.histplot(scores,kde=False ,stat=\"density\", label=\"samples\")\n",
    "  min, max = ax.get_xlim()\n",
    "  x = np.linspace(min, max + 0.05, 100)\n",
    "  p = nrm.pdf(x)\n",
    "  ax.plot(x, p, 'r', linewidth=2, label=\"pdf\")\n",
    "  title = \" {} (Mean: {:.2f} Std: {:.2f})\".format(title, mu, std)\n",
    "  plt.title(title)\n",
    "  ax.legend()\n",
    "  ax.set_xlabel(\"Score\")\n",
    "  plt.tight_layout()\n",
    "  plt.savefig(f\"synthetic-pad-dist-{fold}.png\", facecolor=\"white\")\n",
    "  plt.show()"
   ]
  },
  {
   "cell_type": "markdown",
   "metadata": {},
   "source": [
    "#### Plot Train D-Net Pad Score Distribution"
   ]
  },
  {
   "cell_type": "code",
   "execution_count": null,
   "metadata": {},
   "outputs": [],
   "source": [
    "df = pd.read_json(train_json)\n",
    "for fold in range(1,6):\n",
    "  pad_scores = np.array(df[df[\"group\"] != fold][\"pad_score\"])\n",
    "  plot_norm_dist(pad_scores, f\"Train Samples PAD Dist. F-{fold}\")"
   ]
  },
  {
   "cell_type": "code",
   "execution_count": null,
   "metadata": {},
   "outputs": [],
   "source": [
    "df = pd.read_json(train_json)\n",
    "pad_scores = np.array(df[\"pad_score\"])\n",
    "plot_norm_dist(pad_scores, f\"Train Samples PAD Dist.\")"
   ]
  },
  {
   "cell_type": "markdown",
   "metadata": {},
   "source": [
    "#### Plot Synthetic D-Net Pad Score Distribution"
   ]
  },
  {
   "cell_type": "code",
   "execution_count": null,
   "metadata": {},
   "outputs": [],
   "source": [
    "df = pd.read_json(synthetic_json)\n",
    "for fold in range(1,6):\n",
    "  pad_scores = np.array(df[df[\"fold\"] == fold][\"pad_score\"])\n",
    "  plot_norm_dist(pad_scores, f\"Synthetic Samples PAD Dist. F-{fold}\")"
   ]
  },
  {
   "cell_type": "code",
   "execution_count": null,
   "metadata": {},
   "outputs": [],
   "source": [
    "pad_scores = np.array(df[\"pad_score\"])\n",
    "plot_norm_dist(pad_scores, f\"Synthetic Samples PAD Dist.\")"
   ]
  },
  {
   "cell_type": "markdown",
   "metadata": {},
   "source": [
    "#### Plot Synthetic D-Net Pad Accepted Score Distribution"
   ]
  },
  {
   "cell_type": "code",
   "execution_count": null,
   "metadata": {},
   "outputs": [],
   "source": [
    "df = pd.read_json(synthetic_json)\n",
    "pad_scores = np.array(df[(df[\"verieye_status\"] == True)][\"pad_score\"])\n",
    "plot_norm_dist(pad_scores, f\"Selected Synthetic Samples PAD Dist.\")"
   ]
  },
  {
   "cell_type": "code",
   "execution_count": null,
   "metadata": {},
   "outputs": [],
   "source": [
    "images = df.sort_values(by=\"prop_of_i\").head(100)[\"image\"].to_numpy()"
   ]
  },
  {
   "cell_type": "code",
   "execution_count": null,
   "metadata": {},
   "outputs": [],
   "source": [
    "selected_images = [cv2.imread(os.path.join(\"./data/synthetic\", img)) for img in images]"
   ]
  },
  {
   "cell_type": "code",
   "execution_count": null,
   "metadata": {},
   "outputs": [],
   "source": [
    "import random\n",
    "def show_random_images_from_list(images_list, number):\n",
    "  i = 0\n",
    "  fig = plt.figure(figsize=(6,5))\n",
    "  for image in random.sample(images_list, number):\n",
    "    plt.subplot(4, 4, i+1)\n",
    "    plt.imshow(image)\n",
    "    plt.axis('off')\n",
    "    i+=1 \n",
    "  fig.tight_layout()\n",
    "  plt.show()"
   ]
  },
  {
   "cell_type": "code",
   "execution_count": null,
   "metadata": {},
   "outputs": [],
   "source": [
    "show_random_images_from_list(selected_images, 8)"
   ]
  }
 ],
 "metadata": {
  "interpreter": {
   "hash": "749a1d8c846e0d02dcb3ab682a244099f3857e8c89a32ec106836d1782456aa4"
  },
  "kernelspec": {
   "display_name": "Python 3.9.1 ('env': venv)",
   "language": "python",
   "name": "python3"
  },
  "language_info": {
   "codemirror_mode": {
    "name": "ipython",
    "version": 3
   },
   "file_extension": ".py",
   "mimetype": "text/x-python",
   "name": "python",
   "nbconvert_exporter": "python",
   "pygments_lexer": "ipython3",
   "version": "3.9.1"
  },
  "orig_nbformat": 4
 },
 "nbformat": 4,
 "nbformat_minor": 2
}
