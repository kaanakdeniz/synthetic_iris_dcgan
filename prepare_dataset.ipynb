{
 "cells": [
  {
   "cell_type": "code",
   "execution_count": null,
   "metadata": {},
   "outputs": [],
   "source": [
    "import os\n",
    "import glob\n",
    "import shutil\n",
    "import cv2\n",
    "from ast import literal_eval\n",
    "import numpy as np\n",
    "import pandas as pd"
   ]
  },
  {
   "cell_type": "code",
   "execution_count": null,
   "metadata": {},
   "outputs": [],
   "source": [
    "casia_dir = \"../dataset/casia\"\n",
    "mmu1_dir = \"../dataset/mmu1\"\n",
    "mmu2_dir = \"../dataset/mmu2\"\n",
    "output_dir = \"./data/\""
   ]
  },
  {
   "cell_type": "code",
   "execution_count": null,
   "metadata": {},
   "outputs": [],
   "source": [
    "# Copy casia classes\n",
    "class_num = 1\n",
    "for iris in glob.glob(casia_dir+\"/*\"):\n",
    "  class_dir = os.path.join(output_dir, str(class_num))\n",
    "  if not os.path.exists(class_dir):\n",
    "    os.makedirs(class_dir)\n",
    "  for file in glob.glob(iris+\"/*\"):\n",
    "    shutil.copy2(file, class_dir)\n",
    "  class_num += 1"
   ]
  },
  {
   "cell_type": "code",
   "execution_count": null,
   "metadata": {},
   "outputs": [],
   "source": [
    "# Copy mmu classes\n",
    "class_num = len(os.listdir(output_dir)) + 1\n",
    "for dir in [mmu1_dir, mmu2_dir]:\n",
    "  for iris in glob.glob(dir+\"/*\"):\n",
    "    left_class_dir = os.path.join(output_dir, str(class_num))\n",
    "    right_class_dir = os.path.join(output_dir, str(class_num + 1))\n",
    "    os.makedirs(left_class_dir)\n",
    "    os.makedirs(right_class_dir)\n",
    "    for eye_side in glob.glob(iris+\"/*\"):\n",
    "      class_dir = left_class_dir if \"left\" in eye_side else right_class_dir\n",
    "      for file in glob.glob(eye_side+\"/*\"):\n",
    "          shutil.copy2(file, class_dir)\n",
    "    class_num += 2"
   ]
  }
 ],
 "metadata": {
  "interpreter": {
   "hash": "45d0243bea0ea99defde996e70ba6ac531503370861980d090291a64cd5afe82"
  },
  "kernelspec": {
   "display_name": "Python 3.9.1 ('env': venv)",
   "language": "python",
   "name": "python3"
  },
  "language_info": {
   "codemirror_mode": {
    "name": "ipython",
    "version": 3
   },
   "file_extension": ".py",
   "mimetype": "text/x-python",
   "name": "python",
   "nbconvert_exporter": "python",
   "pygments_lexer": "ipython3",
   "version": "3.9.1"
  },
  "orig_nbformat": 4
 },
 "nbformat": 4,
 "nbformat_minor": 2
}
